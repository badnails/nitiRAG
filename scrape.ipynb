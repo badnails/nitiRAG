{
 "cells": [
  {
   "cell_type": "code",
   "execution_count": 1,
   "id": "202889ab",
   "metadata": {},
   "outputs": [],
   "source": [
    "import time\n",
    "from bs4 import BeautifulSoup\n",
    "from selenium import webdriver\n",
    "from selenium.webdriver.chrome.service import Service as ChromeService\n",
    "from selenium.webdriver.chrome.options import Options\n",
    "from webdriver_manager.chrome import ChromeDriverManager"
   ]
  },
  {
   "cell_type": "code",
   "execution_count": 2,
   "id": "52b2bf07",
   "metadata": {},
   "outputs": [],
   "source": [
    "URLS = [\n",
    "    \"https://www.epassport.gov.bd/instructions/five-step-to-your-epassport\",\n",
    "    \"https://www.epassport.gov.bd/instructions/urgent-applications\",\n",
    "    \"https://www.epassport.gov.bd/instructions/passport-fees\",\n",
    "]"
   ]
  },
  {
   "cell_type": "code",
   "execution_count": 3,
   "id": "d0d043cc",
   "metadata": {},
   "outputs": [],
   "source": [
    "def setup_driver():\n",
    "    \"\"\"Initializes the Selenium WebDriver.\"\"\"\n",
    "    chrome_options = Options()\n",
    "    chrome_options.add_argument(\"--headless\")  \n",
    "    chrome_options.add_argument(\"--no-sandbox\")\n",
    "    chrome_options.add_argument(\"--disable-dev-shm-usage\") \n",
    "    chrome_options.add_argument(\"user-agent=Mozilla/5.0 (Windows NT 10.0; Win64; x64) AppleWebKit/537.36 (KHTML, like Gecko) Chrome/109.0.0.0 Safari/537.36\")\n",
    "\n",
    "    service = ChromeService(executable_path=ChromeDriverManager().install())\n",
    "    driver = webdriver.Chrome(service=service, options=chrome_options)\n",
    "    return driver\n"
   ]
  },
  {
   "cell_type": "code",
   "execution_count": 4,
   "id": "3d1247a5",
   "metadata": {},
   "outputs": [],
   "source": [
    "def scrape_page_content(url, driver):\n",
    "    \"\"\"Fetches page content using Selenium and extracts text using BeautifulSoup.\"\"\"\n",
    "    try:\n",
    "        driver.get(url)\n",
    "\n",
    "        time.sleep(2)\n",
    "\n",
    "        html_content = driver.page_source\n",
    "\n",
    "    except Exception as e:\n",
    "        print(f\"Error loading page {url} with Selenium: {e}\")\n",
    "        return None\n",
    "\n",
    "    soup = BeautifulSoup(html_content, 'html.parser')\n",
    "\n",
    "    content_area = soup.find('div', class_='wrapper wrapper--margined') # Adjust based on site inspection\n",
    "\n",
    "    if not content_area:\n",
    "        content_area = soup.find('body')\n",
    "\n",
    "    text_blocks = []\n",
    "    for element in content_area.find_all(['p', 'li', 'h2', 'h3', 'h4']):\n",
    "        text = element.get_text(strip=True)\n",
    "        if text:\n",
    "            text_blocks.append(text)\n",
    "\n",
    "    page_title = soup.title.string if soup.title else \"Untitled\"\n",
    "    return {\"content\": \"\\n\".join(text_blocks), \"source_url\": url, \"title\": page_title}\n"
   ]
  },
  {
   "cell_type": "code",
   "execution_count": 5,
   "id": "f256df80",
   "metadata": {},
   "outputs": [],
   "source": [
    "def get_all_data():\n",
    "    \"\"\"Initializes driver and scrapes all target URLs.\"\"\"\n",
    "    driver = setup_driver()\n",
    "    all_documents = []\n",
    "    for url in URLS:\n",
    "        print(f\"Scraping {url}...\")\n",
    "        data = scrape_page_content(url, driver)\n",
    "        if data:\n",
    "            all_documents.append(data)\n",
    "    driver.quit()\n",
    "    return all_documents"
   ]
  },
  {
   "cell_type": "code",
   "execution_count": 6,
   "id": "9b8380b9",
   "metadata": {},
   "outputs": [
    {
     "name": "stdout",
     "output_type": "stream",
     "text": [
      "Scraping https://www.epassport.gov.bd/instructions/five-step-to-your-epassport...\n",
      "Scraping https://www.epassport.gov.bd/instructions/urgent-applications...\n",
      "Scraping https://www.epassport.gov.bd/instructions/passport-fees...\n"
     ]
    },
    {
     "data": {
      "text/plain": [
       "[{'content': \"Home\\n5 steps to e‑Passport\\nLast updated:5 May 2025\\nStep 1: Check if the new e-Passport is already available in your area\\nList of functional e-Passport Offices\\nStep 2: Fill in your e-Passport application online\\nFor Online Application ClickHere\\nStep 3: Pay passport fees\\nFor Passport Fees and Bank List ClickHere\\nStep 4: Visit your Passport Office for biometric enrolment\\nMake sure you have allrequired documentswith you when you visit the passport office.\\nStep 5: Collect your e-Passport at the passport office\\nDelivery slip you received during passport enrolment\\nAuthorized representatives(has to bring his/her NID card) can collect the applicant's new passport.\",\n",
       "  'source_url': 'https://www.epassport.gov.bd/instructions/five-step-to-your-epassport',\n",
       "  'title': 'E‑Passport Online Registration Portal'},\n",
       " {'content': 'Home\\nUrgent applications\\nLast updated:1 June 2025\\nWhat is Super Express passport delivery service?\\nWho can apply for Super Express delivery?\\nWhere can I apply for Super Express passport?\\nWhat is the Super Express passport delivery process?\\nAddress for passport pickup (Super Express delivery):',\n",
       "  'source_url': 'https://www.epassport.gov.bd/instructions/urgent-applications',\n",
       "  'title': 'E‑Passport Online Registration Portal'},\n",
       " {'content': 'Home\\nPassport fees\\nLast updated:1 July 2025\\ne-Passport Payment\\ne-Passport fees can be paid in the following ways:\\n1.Online: Through \"ekpay\"(Payment option: VISA, Master Card, American Express, bKash, Nagad, Rocket, Upay, Dmoney, OK Wallet, Bank Asia, Brack Bank, EBL, City Bank, UCB, AB Bank, DBBL, Midland Bank, MBL Rainbow)\\n2. Offline: Can be paid at any government or private banks through A-Challan (For Self paymentClick Here).\\ne-Passport fees for inside Bangladesh (Including 15% VAT)\\nRegular delivery: TK 4,025\\nExpress delivery: TK 6,325\\nSuper Express delivery: TK 8,625\\nRegular delivery: TK 5,750\\nExpress delivery: TK 8,050\\nSuper Express delivery: TK 10,350\\nRegular delivery: TK 6,325\\nExpress delivery: TK 8,625\\nSuper Express delivery: TK 12,075\\nRegular delivery: TK 8,050\\nExpress delivery: TK 10,350\\nSuper Express delivery: TK 13,800\\ne-Passport fees for Bangladesh Mission\\'s General Applicants:\\nRegular delivery : USD 100\\nExpress delivery : USD 150\\nRegular delivery : USD 125\\nExpress delivery : USD 175\\nRegular delivery : USD 150\\nExpress delivery : USD 200\\nRegular delivery : USD 175\\nExpress delivery : USD 225\\ne-Passport fees for Bangladesh Mission\\'s Labors and Students:\\nRegular delivery : USD 30\\nExpress delivery : USD 45\\nRegular delivery : USD 50\\nExpress delivery : USD 75\\nRegular delivery : USD 150\\nExpress delivery : USD 200\\nRegular delivery : USD 175\\nExpress delivery : USD 225',\n",
       "  'source_url': 'https://www.epassport.gov.bd/instructions/passport-fees',\n",
       "  'title': 'E‑Passport Online Registration Portal'}]"
      ]
     },
     "execution_count": 6,
     "metadata": {},
     "output_type": "execute_result"
    }
   ],
   "source": [
    "get_all_data()"
   ]
  }
 ],
 "metadata": {
  "kernelspec": {
   "display_name": "pyvenv",
   "language": "python",
   "name": "python3"
  },
  "language_info": {
   "codemirror_mode": {
    "name": "ipython",
    "version": 3
   },
   "file_extension": ".py",
   "mimetype": "text/x-python",
   "name": "python",
   "nbconvert_exporter": "python",
   "pygments_lexer": "ipython3",
   "version": "3.12.3"
  }
 },
 "nbformat": 4,
 "nbformat_minor": 5
}
